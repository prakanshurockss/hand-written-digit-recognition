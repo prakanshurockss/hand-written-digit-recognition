{
  "nbformat": 4,
  "nbformat_minor": 0,
  "metadata": {
    "colab": {
      "name": "Untitled7.ipynb",
      "provenance": [],
      "collapsed_sections": [],
      "authorship_tag": "ABX9TyM/llG/XlmrtjsQ1UmwhfR5",
      "include_colab_link": true
    },
    "kernelspec": {
      "name": "python3",
      "display_name": "Python 3"
    },
    "language_info": {
      "name": "python"
    }
  },
  "cells": [
    {
      "cell_type": "markdown",
      "metadata": {
        "id": "view-in-github",
        "colab_type": "text"
      },
      "source": [
        "<a href=\"https://colab.research.google.com/github/prakanshurockss/hand-written-digit-recognition/blob/main/model.ipynb\" target=\"_parent\"><img src=\"https://colab.research.google.com/assets/colab-badge.svg\" alt=\"Open In Colab\"/></a>"
      ]
    },
    {
      "cell_type": "code",
      "metadata": {
        "id": "vtx0_rf8-jeI"
      },
      "source": [
        "import numpy as np                   # advanced math library\n",
        "import matplotlib.pyplot as plt      # MATLAB like plotting routines\n",
        "import random                        # for generating random numbers\n",
        "\n",
        "from keras.datasets import mnist     # MNIST dataset is included in Keras\n",
        "from keras.models import Sequential  # Model type to be used\n",
        "\n",
        "from keras.layers.core import Dense, Dropout, Activation # Types of layers to be used in our model\n",
        "from keras.utils import np_utils                         # NumPy related tools"
      ],
      "execution_count": 1,
      "outputs": []
    },
    {
      "cell_type": "code",
      "metadata": {
        "colab": {
          "base_uri": "https://localhost:8080/"
        },
        "id": "9A_1HtQY_Byz",
        "outputId": "daedd706-0979-4510-d6d1-58ac548b6891"
      },
      "source": [
        "# The MNIST data is split between 60,000 28 x 28 pixel training images and 10,000 28 x 28 pixel images\n",
        "(X_train, y_train), (X_test, y_test) = mnist.load_data()\n",
        "\n",
        "print(\"X_train shape\", X_train.shape)\n",
        "print(\"y_train shape\", y_train.shape)\n",
        "print(\"X_test shape\", X_test.shape)\n",
        "print(\"y_test shape\", y_test.shape)"
      ],
      "execution_count": 2,
      "outputs": [
        {
          "output_type": "stream",
          "text": [
            "Downloading data from https://storage.googleapis.com/tensorflow/tf-keras-datasets/mnist.npz\n",
            "11493376/11490434 [==============================] - 0s 0us/step\n",
            "11501568/11490434 [==============================] - 0s 0us/step\n",
            "X_train shape (60000, 28, 28)\n",
            "y_train shape (60000,)\n",
            "X_test shape (10000, 28, 28)\n",
            "y_test shape (10000,)\n"
          ],
          "name": "stdout"
        }
      ]
    },
    {
      "cell_type": "code",
      "metadata": {
        "colab": {
          "base_uri": "https://localhost:8080/",
          "height": 657
        },
        "id": "-SvjDTyK_FHv",
        "outputId": "fe8e8826-0f3e-4aab-a4fb-98151344492a"
      },
      "source": [
        "plt.rcParams['figure.figsize'] = (9,9) # Make the figures a bit bigger\n",
        "\n",
        "for i in range(9):\n",
        "    plt.subplot(3,3,i+1)\n",
        "    num = random.randint(0, len(X_train))\n",
        "    plt.imshow(X_train[num], cmap='gray', interpolation='none')\n",
        "    plt.title(\"Class {}\".format(y_train[num]))\n",
        "    \n",
        "plt.tight_layout()"
      ],
      "execution_count": 3,
      "outputs": [
        {
          "output_type": "display_data",
          "data": {
            "image/png": "[encoded data removed]",
            "text/plain": [
              "<Figure size 648x648 with 9 Axes>"
            ]
          },
          "metadata": {
            "tags": [],
            "needs_background": "light"
          }
        }
      ]
    },
    {
      "cell_type": "code",
      "metadata": {
        "colab": {
          "base_uri": "https://localhost:8080/"
        },
        "id": "J6Myu1Fq_JfP",
        "outputId": "e9e67230-636e-44ce-de7f-53d950403745"
      },
      "source": [
        "# just a little function for pretty printing a matrix\n",
        "def matprint(mat, fmt=\"g\"):\n",
        "    col_maxes = [max([len((\"{:\"+fmt+\"}\").format(x)) for x in col]) for col in mat.T]\n",
        "    for x in mat:\n",
        "        for i, y in enumerate(x):\n",
        "            print((\"{:\"+str(col_maxes[i])+fmt+\"}\").format(y), end=\"  \")\n",
        "        print(\"\")\n",
        "\n",
        "# now print!        \n",
        "matprint(X_train[num])"
      ],
      "execution_count": 4,
      "outputs": [
        {
          "output_type": "stream",
          "text": [
            "0  0  0  0  0  0  0   0    0    0    0    0    0    0    0    0    0    0    0    0    0    0   0  0  0  0  0  0  \n",
            "0  0  0  0  0  0  0   0    0    0    0    0    0    0    0    0    0    0    0    0    0    0   0  0  0  0  0  0  \n",
            "0  0  0  0  0  0  0   0    0    0    0    0    0    0    0    0    0    0    0    0    0    0   0  0  0  0  0  0  \n",
            "0  0  0  0  0  0  0   0    0    0    0    0    0    0    0    0    0    0    0    0    0    0   0  0  0  0  0  0  \n",
            "0  0  0  0  0  0  0   0    0   96  165    0    0    0    0    0    0    0    0    0    0    0   0  0  0  0  0  0  \n",
            "0  0  0  0  0  0  0   0  132  249  198    0    0    0    0    0    0    0    0    0    0    0   0  0  0  0  0  0  \n",
            "0  0  0  0  0  0  0  35  227  252  149    0    0    0    0    0    0    0    0    0    0    0   0  0  0  0  0  0  \n",
            "0  0  0  0  0  0  0  94  252  252   66    0    0    0    0    0    0    0    0    0    0    0   0  0  0  0  0  0  \n",
            "0  0  0  0  0  0  0  94  252  252   66    0    0    0    0    0   29   67   46    0    0    0   0  0  0  0  0  0  \n",
            "0  0  0  0  0  0  0  94  252  252   66    0    0    0    0   26  208  252  172    0    0    0   0  0  0  0  0  0  \n",
            "0  0  0  0  0  0  0  94  252  252   66    0    0    0    0  121  252  252   81    0    0    0   0  0  0  0  0  0  \n",
            "0  0  0  0  0  0  0  94  252  252   66    0    0    0    0  204  252  242   35    0    0    0   0  0  0  0  0  0  \n",
            "0  0  0  0  0  0  0  94  252  252  143    0    0    0    0  253  252  163   56  146  146  146  54  0  0  0  0  0  \n",
            "0  0  0  0  0  0  0  94  252  252  198    0    0    0   71  253  252  252  252  252  252  231  44  0  0  0  0  0  \n",
            "0  0  0  0  0  0  0  50  235  253  253  253  253  253  253  255  253  253  253  253  164   42   0  0  0  0  0  0  \n",
            "0  0  0  0  0  0  0   0  157  252  252  252  252  252  252  253  252  252  120   13    4    0   0  0  0  0  0  0  \n",
            "0  0  0  0  0  0  0   0    9  156  183  158  158  158  158  253  252  168    4    0    0    0   0  0  0  0  0  0  \n",
            "0  0  0  0  0  0  0   0    0   11   11    0    0    0    0  253  252  158    0    0    0    0   0  0  0  0  0  0  \n",
            "0  0  0  0  0  0  0   0    0    0    0    0    0    0    0  253  252  158    0    0    0    0   0  0  0  0  0  0  \n",
            "0  0  0  0  0  0  0   0    0    0    0    0    0    0    0  253  252  158    0    0    0    0   0  0  0  0  0  0  \n",
            "0  0  0  0  0  0  0   0    0    0    0    0    0    0    0  161  252  223   27    0    0    0   0  0  0  0  0  0  \n",
            "0  0  0  0  0  0  0   0    0    0    0    0    0    0    0  121  252  252  174  125    7    0   0  0  0  0  0  0  \n",
            "0  0  0  0  0  0  0   0    0    0    0    0    0    0    0  114  251  252  252  213   28    0   0  0  0  0  0  0  \n",
            "0  0  0  0  0  0  0   0    0    0    0    0    0    0    0    0  169  252  209   88    0    0   0  0  0  0  0  0  \n",
            "0  0  0  0  0  0  0   0    0    0    0    0    0    0    0    0    0    0    0    0    0    0   0  0  0  0  0  0  \n",
            "0  0  0  0  0  0  0   0    0    0    0    0    0    0    0    0    0    0    0    0    0    0   0  0  0  0  0  0  \n",
            "0  0  0  0  0  0  0   0    0    0    0    0    0    0    0    0    0    0    0    0    0    0   0  0  0  0  0  0  \n",
            "0  0  0  0  0  0  0   0    0    0    0    0    0    0    0    0    0    0    0    0    0    0   0  0  0  0  0  0  \n"
          ],
          "name": "stdout"
        }
      ]
    },
    {
      "cell_type": "code",
      "metadata": {
        "colab": {
          "base_uri": "https://localhost:8080/"
        },
        "id": "OaO2WgUj_YZX",
        "outputId": "28a1ced9-f4ce-47cb-e187-d48edc72063c"
      },
      "source": [
        "X_train = X_train.reshape(60000, 784) # reshape 60,000 28 x 28 matrices into 60,000 784-length vectors.\n",
        "X_test = X_test.reshape(10000, 784)   # reshape 10,000 28 x 28 matrices into 10,000 784-length vectors.\n",
        "\n",
        "X_train = X_train.astype('float32')   # change integers to 32-bit floating point numbers\n",
        "X_test = X_test.astype('float32')\n",
        "\n",
        "X_train /= 255                        # normalize each value for each pixel for the entire vector for each input\n",
        "X_test /= 255\n",
        "\n",
        "print(\"Training matrix shape\", X_train.shape)\n",
        "print(\"Testing matrix shape\", X_test.shape)"
      ],
      "execution_count": 5,
      "outputs": [
        {
          "output_type": "stream",
          "text": [
            "Training matrix shape (60000, 784)\n",
            "Testing matrix shape (10000, 784)\n"
          ],
          "name": "stdout"
        }
      ]
    },
    {
      "cell_type": "code",
      "metadata": {
        "id": "RCsu7o3z_cF3"
      },
      "source": [
        "nb_classes = 10 # number of unique digits\n",
        "\n",
        "Y_train = np_utils.to_categorical(y_train, nb_classes)\n",
        "Y_test = np_utils.to_categorical(y_test, nb_classes)"
      ],
      "execution_count": 6,
      "outputs": []
    },
    {
      "cell_type": "code",
      "metadata": {
        "id": "EtgO6aAW_c5k"
      },
      "source": [
        "# The Sequential model is a linear stack of layers and is very common.\n",
        "\n",
        "model = Sequential()"
      ],
      "execution_count": 7,
      "outputs": []
    },
    {
      "cell_type": "code",
      "metadata": {
        "id": "HijAsw0Y_hM5"
      },
      "source": [
        "# The first hidden layer is a set of 512 nodes (artificial neurons).\n",
        "# Each node will receive an element from each input vector and apply some weight and bias to it.\n",
        "\n",
        "model.add(Dense(512, input_shape=(784,))) #(784,) is not a typo -- that represents a 784 length vector!"
      ],
      "execution_count": 8,
      "outputs": []
    },
    {
      "cell_type": "code",
      "metadata": {
        "id": "GB4VLsVC_jok"
      },
      "source": [
        "# An \"activation\" is a non-linear function applied to the output of the layer above.\n",
        "# It checks the new value of the node, and decides whether that artifical neuron has fired.\n",
        "# The Rectified Linear Unit (ReLU) converts all negative inputs to nodes in the next layer to be zero.\n",
        "# Those inputs are then not considered to be fired.\n",
        "# Positive values of a node are unchanged.\n",
        "\n",
        "model.add(Activation('relu'))"
      ],
      "execution_count": 9,
      "outputs": []
    },
    {
      "cell_type": "code",
      "metadata": {
        "id": "1KHYGSWb_kTM"
      },
      "source": [
        "# Dropout zeroes a selection of random outputs (i.e., disables their activation)\n",
        "# Dropout helps protect the model from memorizing or \"overfitting\" the training data.\n",
        "model.add(Dropout(0.2))"
      ],
      "execution_count": 10,
      "outputs": []
    },
    {
      "cell_type": "code",
      "metadata": {
        "id": "khUgFvb6_pdE"
      },
      "source": [
        "# The second hidden layer appears identical to our first layer.\n",
        "# However, instead of each of the 512-node receiving 784-inputs from the input image data,\n",
        "# they receive 512 inputs from the output of the first 512-node layer.\n",
        "\n",
        "model.add(Dense(512))\n",
        "model.add(Activation('relu'))\n",
        "model.add(Dropout(0.2))"
      ],
      "execution_count": 24,
      "outputs": []
    },
    {
      "cell_type": "code",
      "metadata": {
        "id": "dZcwjLeR_ruq"
      },
      "source": [
        "# The final layer of 10 neurons in fully-connected to the previous 512-node layer.\n",
        "# The final layer of a FCN should be equal to the number of desired classes (10 in this case).\n",
        "model.add(Dense(10))"
      ],
      "execution_count": 25,
      "outputs": []
    },
    {
      "cell_type": "code",
      "metadata": {
        "id": "Uu1RRVXl_t39"
      },
      "source": [
        "# The \"softmax\" activation represents a probability distribution over K different possible outcomes.\n",
        "# Its values are all non-negative and sum to 1.\n",
        "\n",
        "model.add(Activation('softmax'))"
      ],
      "execution_count": 26,
      "outputs": []
    },
    {
      "cell_type": "code",
      "metadata": {
        "colab": {
          "base_uri": "https://localhost:8080/"
        },
        "id": "_CtL-Wb9_vtK",
        "outputId": "49d83f03-d4f1-48e7-e91d-7e289187641a"
      },
      "source": [
        "# Summarize the built model\n",
        "\n",
        "model.summary()"
      ],
      "execution_count": 27,
      "outputs": [
        {
          "output_type": "stream",
          "text": [
            "Model: \"sequential\"\n",
            "_________________________________________________________________\n",
            "Layer (type)                 Output Shape              Param #   \n",
            "=================================================================\n",
            "dense (Dense)                (None, 512)               401920    \n",
            "_________________________________________________________________\n",
            "activation (Activation)      (None, 512)               0         \n",
            "_________________________________________________________________\n",
            "dropout (Dropout)            (None, 512)               0         \n",
            "_________________________________________________________________\n",
            "dense_1 (Dense)              (None, 512)               262656    \n",
            "_________________________________________________________________\n",
            "activation_1 (Activation)    (None, 512)               0         \n",
            "_________________________________________________________________\n",
            "dropout_1 (Dropout)          (None, 512)               0         \n",
            "_________________________________________________________________\n",
            "dense_2 (Dense)              (None, 10)                5130      \n",
            "_________________________________________________________________\n",
            "activation_2 (Activation)    (None, 10)                0         \n",
            "_________________________________________________________________\n",
            "dense_3 (Dense)              (None, 512)               5632      \n",
            "_________________________________________________________________\n",
            "activation_3 (Activation)    (None, 512)               0         \n",
            "_________________________________________________________________\n",
            "dropout_2 (Dropout)          (None, 512)               0         \n",
            "_________________________________________________________________\n",
            "dense_4 (Dense)              (None, 10)                5130      \n",
            "_________________________________________________________________\n",
            "activation_4 (Activation)    (None, 10)                0         \n",
            "=================================================================\n",
            "Total params: 680,468\n",
            "Trainable params: 680,468\n",
            "Non-trainable params: 0\n",
            "_________________________________________________________________\n"
          ],
          "name": "stdout"
        }
      ]
    },
    {
      "cell_type": "code",
      "metadata": {
        "id": "1XUStfQJ_0xt"
      },
      "source": [
        "# Let's use the Adam optimizer for learning\n",
        "model.compile(loss='categorical_crossentropy', optimizer='adam', metrics=['accuracy'])"
      ],
      "execution_count": 28,
      "outputs": []
    },
    {
      "cell_type": "code",
      "metadata": {
        "colab": {
          "base_uri": "https://localhost:8080/"
        },
        "id": "LhBha-F3ApO-",
        "outputId": "07f3c1f9-d516-49f6-f62c-c36f85633d67"
      },
      "source": [
        "for i in [32,64,128,256]:\n",
        "  print(\"+++++++++++++++++++++++++++++++++++++\")\n",
        "  print (i)\n",
        "  model.fit(X_train, Y_train,\n",
        "          batch_size=128, epochs=5,\n",
        "          verbose=1)"
      ],
      "execution_count": 23,
      "outputs": [
        {
          "output_type": "stream",
          "text": [
            "+++++++++++++++++++++++++++++++++++++\n",
            "32\n",
            "Epoch 1/5\n",
            "469/469 [==============================] - 7s 16ms/step - loss: 0.0216 - accuracy: 0.9929\n",
            "Epoch 2/5\n",
            "469/469 [==============================] - 7s 16ms/step - loss: 0.0221 - accuracy: 0.9923\n",
            "Epoch 3/5\n",
            "469/469 [==============================] - 7s 15ms/step - loss: 0.0195 - accuracy: 0.9937\n",
            "Epoch 4/5\n",
            "469/469 [==============================] - 7s 15ms/step - loss: 0.0193 - accuracy: 0.9935\n",
            "Epoch 5/5\n",
            "469/469 [==============================] - 7s 15ms/step - loss: 0.0176 - accuracy: 0.9938\n",
            "+++++++++++++++++++++++++++++++++++++\n",
            "64\n",
            "Epoch 1/5\n",
            "469/469 [==============================] - 9s 19ms/step - loss: 0.0179 - accuracy: 0.9940\n",
            "Epoch 2/5\n",
            "469/469 [==============================] - 8s 17ms/step - loss: 0.0162 - accuracy: 0.9948\n",
            "Epoch 3/5\n",
            "469/469 [==============================] - 8s 17ms/step - loss: 0.0170 - accuracy: 0.9945\n",
            "Epoch 4/5\n",
            "469/469 [==============================] - 7s 16ms/step - loss: 0.0162 - accuracy: 0.9943\n",
            "Epoch 5/5\n",
            "469/469 [==============================] - 7s 16ms/step - loss: 0.0153 - accuracy: 0.9951\n",
            "+++++++++++++++++++++++++++++++++++++\n",
            "128\n",
            "Epoch 1/5\n",
            "469/469 [==============================] - 7s 16ms/step - loss: 0.0125 - accuracy: 0.9961\n",
            "Epoch 2/5\n",
            "469/469 [==============================] - 7s 16ms/step - loss: 0.0125 - accuracy: 0.9960\n",
            "Epoch 3/5\n",
            "469/469 [==============================] - 7s 16ms/step - loss: 0.0129 - accuracy: 0.9958\n",
            "Epoch 4/5\n",
            "469/469 [==============================] - 7s 16ms/step - loss: 0.0138 - accuracy: 0.9956\n",
            "Epoch 5/5\n",
            "469/469 [==============================] - 8s 16ms/step - loss: 0.0138 - accuracy: 0.9957\n",
            "+++++++++++++++++++++++++++++++++++++\n",
            "256\n",
            "Epoch 1/5\n",
            "469/469 [==============================] - 7s 16ms/step - loss: 0.0128 - accuracy: 0.9960\n",
            "Epoch 2/5\n",
            "469/469 [==============================] - 8s 16ms/step - loss: 0.0129 - accuracy: 0.9954\n",
            "Epoch 3/5\n",
            "469/469 [==============================] - 7s 16ms/step - loss: 0.0121 - accuracy: 0.9962\n",
            "Epoch 4/5\n",
            "469/469 [==============================] - 7s 16ms/step - loss: 0.0127 - accuracy: 0.9962\n",
            "Epoch 5/5\n",
            "469/469 [==============================] - 7s 16ms/step - loss: 0.0108 - accuracy: 0.9966\n"
          ],
          "name": "stdout"
        }
      ]
    },
    {
      "cell_type": "code",
      "metadata": {
        "colab": {
          "base_uri": "https://localhost:8080/"
        },
        "id": "2TfwYa_t_5vs",
        "outputId": "7c8792e8-de27-464d-ab31-8143234bacb2"
      },
      "source": [
        "# as we are getting best accuracy at batch size=256. we can use batch size 256\n",
        "model.fit(X_train, Y_train,\n",
        "          batch_size=256, epochs=5,\n",
        "          verbose=1)"
      ],
      "execution_count": 29,
      "outputs": [
        {
          "output_type": "stream",
          "text": [
            "Epoch 1/5\n",
            "235/235 [==============================] - 8s 30ms/step - loss: 2.2968 - accuracy: 0.1203\n",
            "Epoch 2/5\n",
            "235/235 [==============================] - 7s 30ms/step - loss: 2.2132 - accuracy: 0.3674\n",
            "Epoch 3/5\n",
            "235/235 [==============================] - 7s 30ms/step - loss: 1.9294 - accuracy: 0.9918\n",
            "Epoch 4/5\n",
            "235/235 [==============================] - 7s 30ms/step - loss: 1.5133 - accuracy: 0.9905\n",
            "Epoch 5/5\n",
            "235/235 [==============================] - 7s 30ms/step - loss: 1.0954 - accuracy: 0.9909\n"
          ],
          "name": "stdout"
        },
        {
          "output_type": "execute_result",
          "data": {
            "text/plain": [
              "<keras.callbacks.History at 0x7f29dcc2ea10>"
            ]
          },
          "metadata": {
            "tags": []
          },
          "execution_count": 29
        }
      ]
    },
    {
      "cell_type": "code",
      "metadata": {
        "colab": {
          "base_uri": "https://localhost:8080/"
        },
        "id": "rWg0HwlV_73q",
        "outputId": "986dbac6-fd2f-4e8b-dedd-a72bb2a4c76b"
      },
      "source": [
        "score = model.evaluate(X_test, Y_test)\n",
        "print('Test score:', score[0])\n",
        "print('Test accuracy:', score[1])"
      ],
      "execution_count": 17,
      "outputs": [
        {
          "output_type": "stream",
          "text": [
            "313/313 [==============================] - 2s 3ms/step - loss: 0.0606 - accuracy: 0.9810\n",
            "Test score: 0.06058909744024277\n",
            "Test accuracy: 0.9810000061988831\n"
          ],
          "name": "stdout"
        }
      ]
    },
    {
      "cell_type": "code",
      "metadata": {
        "colab": {
          "base_uri": "https://localhost:8080/"
        },
        "id": "YnLZQa2BABMi",
        "outputId": "c08b81af-84a9-4189-a78a-2a0b397061fe"
      },
      "source": [
        "# The predict_classes function outputs the highest probability class\n",
        "# according to the trained classifier for each input example.\n",
        "predicted_classes = model.predict_classes(X_test)\n",
        "\n",
        "# Check which items we got right / wrong\n",
        "correct_indices = np.nonzero(predicted_classes == y_test)[0]\n",
        "\n",
        "incorrect_indices = np.nonzero(predicted_classes != y_test)[0]"
      ],
      "execution_count": 18,
      "outputs": [
        {
          "output_type": "stream",
          "text": [
            "/usr/local/lib/python3.7/dist-packages/keras/engine/sequential.py:450: UserWarning: `model.predict_classes()` is deprecated and will be removed after 2021-01-01. Please use instead:* `np.argmax(model.predict(x), axis=-1)`,   if your model does multi-class classification   (e.g. if it uses a `softmax` last-layer activation).* `(model.predict(x) > 0.5).astype(\"int32\")`,   if your model does binary classification   (e.g. if it uses a `sigmoid` last-layer activation).\n",
            "  warnings.warn('`model.predict_classes()` is deprecated and '\n"
          ],
          "name": "stderr"
        }
      ]
    },
    {
      "cell_type": "code",
      "metadata": {
        "colab": {
          "base_uri": "https://localhost:8080/",
          "height": 1000
        },
        "id": "NzD_XRqtAEDJ",
        "outputId": "6eb4cad4-5def-49c2-8adf-d0e06e297a6f"
      },
      "source": [
        "plt.figure()\n",
        "for i, correct in enumerate(correct_indices[:9]):\n",
        "    plt.subplot(3,3,i+1)\n",
        "    plt.imshow(X_test[correct].reshape(28,28), cmap='gray', interpolation='none')\n",
        "    plt.title(\"Predicted {}, Class {}\".format(predicted_classes[correct], y_test[correct]))\n",
        "    \n",
        "plt.tight_layout()\n",
        "    \n",
        "plt.figure()\n",
        "for i, incorrect in enumerate(incorrect_indices[:9]):\n",
        "    plt.subplot(3,3,i+1)\n",
        "    plt.imshow(X_test[incorrect].reshape(28,28), cmap='gray', interpolation='none')\n",
        "    plt.title(\"Predicted {}, Class {}\".format(predicted_classes[incorrect], y_test[incorrect]))\n",
        "    \n",
        "plt.tight_layout()"
      ],
      "execution_count": 19,
      "outputs": [
        {
          "output_type": "display_data",
          "data": {
            "image/png": "[encoded data removed]",
            "text/plain": [
              "<Figure size 648x648 with 9 Axes>"
            ]
          },
          "metadata": {
            "tags": [],
            "needs_background": "light"
          }
        },
        {
          "output_type": "display_data",
          "data": {
            "image/png": "[encoded data removed]",
            "text/plain": [
              "<Figure size 648x648 with 9 Axes>"
            ]
          },
          "metadata": {
            "tags": [],
            "needs_background": "light"
          }
        }
      ]
    }
  ]
}